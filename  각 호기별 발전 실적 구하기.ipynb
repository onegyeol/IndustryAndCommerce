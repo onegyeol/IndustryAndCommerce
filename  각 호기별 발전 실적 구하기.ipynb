{
 "cells": [
  {
   "cell_type": "code",
   "execution_count": 6,
   "id": "68217a8e-3c7d-44fa-b2e2-aaea4d88d6c3",
   "metadata": {},
   "outputs": [
    {
     "name": "stdout",
     "output_type": "stream",
     "text": [
      "    사업소  호기       월        유연탄_호기별  무연탄_호기별      계(석탄)_호기별      유류_호기별  \\\n",
      "0    분당   1  202412       0.000000      0.0       0.000000    0.000000   \n",
      "1    분당   2  202412       0.000000      0.0       0.000000    0.000000   \n",
      "2    분당   3  202412       0.000000      0.0       0.000000    0.000000   \n",
      "3    분당   4  202412       0.000000      0.0       0.000000    0.000000   \n",
      "4    분당   5  202412       0.000000      0.0       0.000000    0.000000   \n",
      "..   ..  ..     ...            ...      ...            ...         ...   \n",
      "523  영흥   2  202301       0.000000      0.0       0.000000    0.000000   \n",
      "524  영흥   3  202301  209758.169604      0.0  209758.169604  196.195856   \n",
      "525  영흥   4  202301       0.000000      0.0       0.000000    0.000000   \n",
      "526  영흥   5  202301  228209.511776      0.0  228209.511776  213.454192   \n",
      "527  영흥   6  202301  230236.318621      0.0  230236.318621  215.349952   \n",
      "\n",
      "          LNG_호기별  고형연료_호기별  우드펠릿_호기별  \n",
      "0    10923.353216       0.0       0.0  \n",
      "1     5522.410270       0.0       0.0  \n",
      "2    13126.969445       0.0       0.0  \n",
      "3      498.928065       0.0       0.0  \n",
      "4     7888.535682       0.0       0.0  \n",
      "..            ...       ...       ...  \n",
      "523      0.000000       0.0       0.0  \n",
      "524      0.000000       0.0       0.0  \n",
      "525      0.000000       0.0       0.0  \n",
      "526      0.000000       0.0       0.0  \n",
      "527      0.000000       0.0       0.0  \n",
      "\n",
      "[528 rows x 10 columns]\n"
     ]
    }
   ],
   "source": [
    "import pandas as pd\n",
    "\n",
    "fuel_total_df = pd.read_csv('데이터/한국남동발전_연료소비실적(월평균).csv', encoding='utf-8-sig')\n",
    "generation_df = pd.read_csv('데이터/한국남동발전_발전실적.csv', encoding='utf-8-sig')\n",
    "\n",
    "fuel_total_df['월'] = fuel_total_df['일자'].astype(str).str[:6]\n",
    "generation_df['월'] = generation_df['일자'].astype(str).str[:6]\n",
    "\n",
    "# 발전소 + 월별 총 발전량 계산\n",
    "total_generation = generation_df.groupby(['사업소', '월'])['발전량(MWh)'].sum().reset_index()\n",
    "total_generation = total_generation.rename(columns={'발전량(MWh)': '총발전량'})\n",
    "\n",
    "# 발전실적에 총발전량 병합\n",
    "generation_df = generation_df.merge(total_generation, on=['사업소', '월'], how='left')\n",
    "\n",
    "# 각 호기의 발전량 비율 계산\n",
    "generation_df['발전비율'] = generation_df['발전량(MWh)'] / generation_df['총발전량']\n",
    "\n",
    "fuel_total_df = fuel_total_df.drop(columns=['호기'])\n",
    "\n",
    "merged = generation_df.merge(fuel_total_df, on=['사업소', '월'], how='left')\n",
    "\n",
    "for fuel in ['유연탄', '무연탄', '계(석탄)', '유류', 'LNG', '고형연료', '우드펠릿']:\n",
    "    merged[f'{fuel}_호기별'] = merged['발전비율'] * merged[fuel]\n",
    "\n",
    "# 필요한 열만 출력\n",
    "result = merged[['사업소', '호기', '월'] + [f'{fuel}_호기별' for fuel in ['유연탄', '무연탄', '계(석탄)', '유류', 'LNG', '고형연료', '우드펠릿']]]\n",
    "\n",
    "print(result)\n",
    "result.to_csv('호기별_연료소비_추정.csv', index=False, encoding='utf-8-sig')\n"
   ]
  },
  {
   "cell_type": "code",
   "execution_count": 14,
   "id": "1e1c86c4-ecd0-4625-868f-4bd9e48a5e72",
   "metadata": {},
   "outputs": [
    {
     "name": "stdout",
     "output_type": "stream",
     "text": [
      "  사업소  호기       월  유연탄_호기별  무연탄_호기별  계(석탄)_호기별  유류_호기별   LNG_호기별  고형연료_호기별  \\\n",
      "0  분당   1  202412      0.0      0.0        0.0     0.0  10923.35       0.0   \n",
      "1  분당   2  202412      0.0      0.0        0.0     0.0   5522.41       0.0   \n",
      "2  분당   3  202412      0.0      0.0        0.0     0.0  13126.97       0.0   \n",
      "3  분당   4  202412      0.0      0.0        0.0     0.0    498.93       0.0   \n",
      "4  분당   5  202412      0.0      0.0        0.0     0.0   7888.54       0.0   \n",
      "\n",
      "   우드펠릿_호기별  \n",
      "0       0.0  \n",
      "1       0.0  \n",
      "2       0.0  \n",
      "3       0.0  \n",
      "4       0.0  \n",
      "저장 완료: 호기별_연료소비_추정.csv\n"
     ]
    }
   ],
   "source": [
    "#데이터 소수 둘째자리 반올림\n",
    "import pandas as pd\n",
    "\n",
    "file_path = '데이터/호기별_연료소비_추정.csv'\n",
    "\n",
    "df = pd.read_csv(file_path, encoding='utf-8-sig')\n",
    "\n",
    "float_cols = df.select_dtypes(include=['float']).columns\n",
    "df[float_cols] = df[float_cols].round(2)\n",
    "\n",
    "print(df.head())\n",
    "\n",
    "df.to_csv('데이터/호기별_연료소비_추정.csv', index=False, encoding='utf-8-sig')\n",
    "print(\"저장 완료: 호기별_연료소비_추정.csv\")"
   ]
  },
  {
   "cell_type": "code",
   "execution_count": null,
   "id": "72de0cc3-a980-45f1-8e9a-c95fbeb47daf",
   "metadata": {},
   "outputs": [],
   "source": []
  }
 ],
 "metadata": {
  "kernelspec": {
   "display_name": "Python [conda env:base] *",
   "language": "python",
   "name": "conda-base-py"
  },
  "language_info": {
   "codemirror_mode": {
    "name": "ipython",
    "version": 3
   },
   "file_extension": ".py",
   "mimetype": "text/x-python",
   "name": "python",
   "nbconvert_exporter": "python",
   "pygments_lexer": "ipython3",
   "version": "3.12.7"
  }
 },
 "nbformat": 4,
 "nbformat_minor": 5
}
